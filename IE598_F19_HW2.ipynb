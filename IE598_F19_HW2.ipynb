{
 "cells": [
  {
   "cell_type": "code",
   "execution_count": 1,
   "metadata": {},
   "outputs": [
    {
     "name": "stdout",
     "output_type": "stream",
     "text": [
      "(900, 9) (900,)\n"
     ]
    }
   ],
   "source": [
    "import pandas as pd\n",
    "import matplotlib.pyplot as plt\n",
    "data=pd.read_csv(\"/Users/qiuchenlu/Desktop/IE598/Treasury Squeeze test - DS1.csv\", header=None)\n",
    "import numpy as np\n",
    "X_data=np.array(data[1:])\n",
    "X_data=np.delete(X_data,(0,1,11), axis=1)\n",
    "\n",
    "#sum=0\n",
    "Y_data=np.array(data[1:][11])\n",
    "for i in range(0,len(Y_data)):\n",
    "    #if \"TRUE\"==Y_data[i]:\n",
    "        #sum+=1\n",
    "    Y_data[i]=int(\"TRUE\"==Y_data[i])\n",
    "#print(sum)  \n",
    "print (X_data.shape,  Y_data.shape)"
   ]
  },
  {
   "cell_type": "code",
   "execution_count": 2,
   "metadata": {},
   "outputs": [
    {
     "name": "stdout",
     "output_type": "stream",
     "text": [
      "(675, 9) (675,)\n"
     ]
    }
   ],
   "source": [
    "from sklearn.model_selection import train_test_split\n",
    "from sklearn import preprocessing\n",
    "\n",
    "X, Y = X_data[:, :9], Y_data\n",
    "Y=Y.astype('int')\n",
    "X_train, X_test, y_train, y_test = train_test_split(X, Y, test_size=0.25, random_state=33)\n",
    "print (X_train.shape, y_train.shape)"
   ]
  },
  {
   "cell_type": "code",
   "execution_count": 3,
   "metadata": {},
   "outputs": [
    {
     "name": "stdout",
     "output_type": "stream",
     "text": [
      "(675, 9) (675,)\n"
     ]
    }
   ],
   "source": [
    "from sklearn.model_selection import train_test_split\n",
    "from sklearn import preprocessing\n",
    "X, Y = X_data, Y_data\n",
    "Y=Y.astype('int')\n",
    "X_train, X_test, y_train, y_test = train_test_split(X, Y, test_size=0.25, random_state=33)\n",
    "print (X_train.shape, y_train.shape)"
   ]
  },
  {
   "cell_type": "code",
   "execution_count": 4,
   "metadata": {},
   "outputs": [
    {
     "data": {
      "text/plain": [
       "0.6933333333333334"
      ]
     },
     "execution_count": 4,
     "metadata": {},
     "output_type": "execute_result"
    }
   ],
   "source": [
    "from sklearn.tree import DecisionTreeClassifier\n",
    "\n",
    "tree = DecisionTreeClassifier(criterion='gini', \n",
    "                              max_depth=3, \n",
    "                              random_state=1)\n",
    "model=tree.fit(X_train, y_train)\n",
    "y_predict=model.predict(X_test)\n",
    "\n",
    "from sklearn.metrics import accuracy_score\n",
    "accuracy_score(y_test,y_predict)\n",
    "#import sklearn\n",
    "#sklearn.tree.plot_tree(model,fontsize=8)"
   ]
  },
  {
   "cell_type": "code",
   "execution_count": 5,
   "metadata": {},
   "outputs": [
    {
     "name": "stdout",
     "output_type": "stream",
     "text": [
      "Best accuracy score and K:\n",
      "0.7333333333333333 27\n"
     ]
    },
    {
     "data": {
      "image/png": "[encoded data removed]",
      "text/plain": [
       "<Figure size 432x288 with 1 Axes>"
      ]
     },
     "metadata": {
      "needs_background": "light"
     },
     "output_type": "display_data"
    }
   ],
   "source": [
    "import matplotlib.pyplot as plt\n",
    "from sklearn.neighbors import KNeighborsClassifier\n",
    "j=0\n",
    "k=0\n",
    "xplot=[]\n",
    "yplot=[]\n",
    "for i in range (1,100):\n",
    "    knn = KNeighborsClassifier(n_neighbors=i, \n",
    "                           p=2, \n",
    "                           metric='minkowski')\n",
    "    model_2=knn.fit(X_train, y_train)\n",
    "    y_predict=model_2.predict(X_test)\n",
    "    score=accuracy_score(y_test,y_predict)\n",
    "    xplot.append(i)\n",
    "    yplot.append(score)\n",
    "    \n",
    "    if score>j:\n",
    "        j=score\n",
    "        k=i\n",
    "\n",
    "plt.plot(xplot,yplot,c=\"black\")\n",
    "plt.xlabel('K')\n",
    "plt.ylabel('Accuracy')\n",
    "print(\"Best accuracy score and K:\")\n",
    "print(j,k)"
   ]
  },
  {
   "cell_type": "code",
   "execution_count": 6,
   "metadata": {},
   "outputs": [
    {
     "name": "stdout",
     "output_type": "stream",
     "text": [
      "My name is Qiuchen LU\n",
      "My NetID is: QLU10\n",
      "I hereby certify that I have read the University policy on Academic Integrity and that I am not in violation.\n"
     ]
    }
   ],
   "source": [
    "print(\"My name is Qiuchen LU\")\n",
    "print(\"My NetID is: QLU10\")\n",
    "print(\"I hereby certify that I have read the University policy on Academic Integrity and that I am not in violation.\")"
   ]
  }
 ],
 "metadata": {
  "kernelspec": {
   "display_name": "Python 3",
   "language": "python",
   "name": "python3"
  },
  "language_info": {
   "codemirror_mode": {
    "name": "ipython",
    "version": 3
   },
   "file_extension": ".py",
   "mimetype": "text/x-python",
   "name": "python",
   "nbconvert_exporter": "python",
   "pygments_lexer": "ipython3",
   "version": "3.7.3"
  }
 },
 "nbformat": 4,
 "nbformat_minor": 2
}
