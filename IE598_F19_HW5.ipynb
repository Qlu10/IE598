{
 "cells": [
  {
   "cell_type": "code",
   "execution_count": 1,
   "metadata": {},
   "outputs": [],
   "source": [
    "import pandas as pd\n",
    "import numpy as np\n",
    "import seaborn as sns\n",
    "df = pd.read_csv(\"/Users/qiuchenlu/Downloads/hw5_treasury yield curve data.csv\")\n",
    "df = df[np.isfinite(df['Adj_Close'])]\n",
    "df=df.drop(columns=['Date'])"
   ]
  },
  {
   "cell_type": "code",
   "execution_count": 2,
   "metadata": {},
   "outputs": [
    {
     "data": {
      "text/html": [
       "<div>\n",
       "<style scoped>\n",
       "    .dataframe tbody tr th:only-of-type {\n",
       "        vertical-align: middle;\n",
       "    }\n",
       "\n",
       "    .dataframe tbody tr th {\n",
       "        vertical-align: top;\n",
       "    }\n",
       "\n",
       "    .dataframe thead th {\n",
       "        text-align: right;\n",
       "    }\n",
       "</style>\n",
       "<table border=\"1\" class=\"dataframe\">\n",
       "  <thead>\n",
       "    <tr style=\"text-align: right;\">\n",
       "      <th></th>\n",
       "      <th>SVENF01</th>\n",
       "      <th>SVENF02</th>\n",
       "      <th>SVENF03</th>\n",
       "      <th>SVENF04</th>\n",
       "      <th>SVENF05</th>\n",
       "      <th>SVENF06</th>\n",
       "      <th>SVENF07</th>\n",
       "      <th>SVENF08</th>\n",
       "      <th>SVENF09</th>\n",
       "      <th>SVENF10</th>\n",
       "      <th>...</th>\n",
       "      <th>SVENF22</th>\n",
       "      <th>SVENF23</th>\n",
       "      <th>SVENF24</th>\n",
       "      <th>SVENF25</th>\n",
       "      <th>SVENF26</th>\n",
       "      <th>SVENF27</th>\n",
       "      <th>SVENF28</th>\n",
       "      <th>SVENF29</th>\n",
       "      <th>SVENF30</th>\n",
       "      <th>Adj_Close</th>\n",
       "    </tr>\n",
       "  </thead>\n",
       "  <tbody>\n",
       "    <tr>\n",
       "      <th>count</th>\n",
       "      <td>8071.000000</td>\n",
       "      <td>8071.000000</td>\n",
       "      <td>8071.000000</td>\n",
       "      <td>8071.000000</td>\n",
       "      <td>8071.000000</td>\n",
       "      <td>8071.000000</td>\n",
       "      <td>8071.000000</td>\n",
       "      <td>8071.000000</td>\n",
       "      <td>8071.000000</td>\n",
       "      <td>8071.000000</td>\n",
       "      <td>...</td>\n",
       "      <td>8071.000000</td>\n",
       "      <td>8071.000000</td>\n",
       "      <td>8071.000000</td>\n",
       "      <td>8071.000000</td>\n",
       "      <td>8071.000000</td>\n",
       "      <td>8071.000000</td>\n",
       "      <td>8071.000000</td>\n",
       "      <td>8071.000000</td>\n",
       "      <td>8071.000000</td>\n",
       "      <td>8071.000000</td>\n",
       "    </tr>\n",
       "    <tr>\n",
       "      <th>mean</th>\n",
       "      <td>3.785311</td>\n",
       "      <td>4.258972</td>\n",
       "      <td>4.669363</td>\n",
       "      <td>5.022430</td>\n",
       "      <td>5.318493</td>\n",
       "      <td>5.559644</td>\n",
       "      <td>5.750071</td>\n",
       "      <td>5.895135</td>\n",
       "      <td>6.000596</td>\n",
       "      <td>6.072112</td>\n",
       "      <td>...</td>\n",
       "      <td>5.689046</td>\n",
       "      <td>5.621666</td>\n",
       "      <td>5.554136</td>\n",
       "      <td>5.486943</td>\n",
       "      <td>5.420479</td>\n",
       "      <td>5.355063</td>\n",
       "      <td>5.290948</td>\n",
       "      <td>5.228333</td>\n",
       "      <td>5.167371</td>\n",
       "      <td>5.509793</td>\n",
       "    </tr>\n",
       "    <tr>\n",
       "      <th>std</th>\n",
       "      <td>2.648060</td>\n",
       "      <td>2.498137</td>\n",
       "      <td>2.341348</td>\n",
       "      <td>2.221632</td>\n",
       "      <td>2.137801</td>\n",
       "      <td>2.080405</td>\n",
       "      <td>2.040337</td>\n",
       "      <td>2.010786</td>\n",
       "      <td>1.987244</td>\n",
       "      <td>1.966960</td>\n",
       "      <td>...</td>\n",
       "      <td>1.801291</td>\n",
       "      <td>1.797858</td>\n",
       "      <td>1.797012</td>\n",
       "      <td>1.798842</td>\n",
       "      <td>1.803390</td>\n",
       "      <td>1.810643</td>\n",
       "      <td>1.820541</td>\n",
       "      <td>1.832984</td>\n",
       "      <td>1.847834</td>\n",
       "      <td>2.491110</td>\n",
       "    </tr>\n",
       "    <tr>\n",
       "      <th>min</th>\n",
       "      <td>0.072700</td>\n",
       "      <td>0.327300</td>\n",
       "      <td>0.630300</td>\n",
       "      <td>1.013000</td>\n",
       "      <td>1.424500</td>\n",
       "      <td>1.698200</td>\n",
       "      <td>1.807300</td>\n",
       "      <td>1.885000</td>\n",
       "      <td>1.942100</td>\n",
       "      <td>1.988200</td>\n",
       "      <td>...</td>\n",
       "      <td>1.489600</td>\n",
       "      <td>1.283000</td>\n",
       "      <td>1.100800</td>\n",
       "      <td>0.941000</td>\n",
       "      <td>0.801800</td>\n",
       "      <td>0.681200</td>\n",
       "      <td>0.577100</td>\n",
       "      <td>0.487600</td>\n",
       "      <td>0.411100</td>\n",
       "      <td>2.801050</td>\n",
       "    </tr>\n",
       "    <tr>\n",
       "      <th>25%</th>\n",
       "      <td>1.144050</td>\n",
       "      <td>1.865600</td>\n",
       "      <td>2.536550</td>\n",
       "      <td>3.023050</td>\n",
       "      <td>3.544700</td>\n",
       "      <td>4.063300</td>\n",
       "      <td>4.409750</td>\n",
       "      <td>4.644300</td>\n",
       "      <td>4.774550</td>\n",
       "      <td>4.859500</td>\n",
       "      <td>...</td>\n",
       "      <td>4.177450</td>\n",
       "      <td>4.090550</td>\n",
       "      <td>4.024800</td>\n",
       "      <td>3.982950</td>\n",
       "      <td>3.962100</td>\n",
       "      <td>3.887150</td>\n",
       "      <td>3.840900</td>\n",
       "      <td>3.825050</td>\n",
       "      <td>3.831350</td>\n",
       "      <td>3.130587</td>\n",
       "    </tr>\n",
       "    <tr>\n",
       "      <th>50%</th>\n",
       "      <td>3.986500</td>\n",
       "      <td>4.393300</td>\n",
       "      <td>4.505500</td>\n",
       "      <td>4.718900</td>\n",
       "      <td>5.051300</td>\n",
       "      <td>5.394600</td>\n",
       "      <td>5.663700</td>\n",
       "      <td>5.870800</td>\n",
       "      <td>5.993700</td>\n",
       "      <td>6.082400</td>\n",
       "      <td>...</td>\n",
       "      <td>5.619600</td>\n",
       "      <td>5.503000</td>\n",
       "      <td>5.369900</td>\n",
       "      <td>5.228000</td>\n",
       "      <td>5.096700</td>\n",
       "      <td>4.979700</td>\n",
       "      <td>4.860800</td>\n",
       "      <td>4.758600</td>\n",
       "      <td>4.669000</td>\n",
       "      <td>4.956219</td>\n",
       "    </tr>\n",
       "    <tr>\n",
       "      <th>75%</th>\n",
       "      <td>5.901500</td>\n",
       "      <td>6.221250</td>\n",
       "      <td>6.461300</td>\n",
       "      <td>6.626600</td>\n",
       "      <td>6.779550</td>\n",
       "      <td>6.908050</td>\n",
       "      <td>7.049900</td>\n",
       "      <td>7.181600</td>\n",
       "      <td>7.297550</td>\n",
       "      <td>7.393350</td>\n",
       "      <td>...</td>\n",
       "      <td>7.330550</td>\n",
       "      <td>7.233200</td>\n",
       "      <td>7.114900</td>\n",
       "      <td>6.998150</td>\n",
       "      <td>6.871050</td>\n",
       "      <td>6.765400</td>\n",
       "      <td>6.650600</td>\n",
       "      <td>6.535450</td>\n",
       "      <td>6.421850</td>\n",
       "      <td>8.051437</td>\n",
       "    </tr>\n",
       "    <tr>\n",
       "      <th>max</th>\n",
       "      <td>9.813800</td>\n",
       "      <td>9.887800</td>\n",
       "      <td>10.145600</td>\n",
       "      <td>10.459900</td>\n",
       "      <td>10.649900</td>\n",
       "      <td>10.741400</td>\n",
       "      <td>10.766300</td>\n",
       "      <td>10.747500</td>\n",
       "      <td>10.701500</td>\n",
       "      <td>10.640000</td>\n",
       "      <td>...</td>\n",
       "      <td>10.535100</td>\n",
       "      <td>10.535100</td>\n",
       "      <td>10.535100</td>\n",
       "      <td>10.535100</td>\n",
       "      <td>10.535100</td>\n",
       "      <td>10.535100</td>\n",
       "      <td>10.535100</td>\n",
       "      <td>10.535100</td>\n",
       "      <td>10.535100</td>\n",
       "      <td>10.150118</td>\n",
       "    </tr>\n",
       "  </tbody>\n",
       "</table>\n",
       "<p>8 rows × 31 columns</p>\n",
       "</div>"
      ],
      "text/plain": [
       "           SVENF01      SVENF02      SVENF03      SVENF04      SVENF05  \\\n",
       "count  8071.000000  8071.000000  8071.000000  8071.000000  8071.000000   \n",
       "mean      3.785311     4.258972     4.669363     5.022430     5.318493   \n",
       "std       2.648060     2.498137     2.341348     2.221632     2.137801   \n",
       "min       0.072700     0.327300     0.630300     1.013000     1.424500   \n",
       "25%       1.144050     1.865600     2.536550     3.023050     3.544700   \n",
       "50%       3.986500     4.393300     4.505500     4.718900     5.051300   \n",
       "75%       5.901500     6.221250     6.461300     6.626600     6.779550   \n",
       "max       9.813800     9.887800    10.145600    10.459900    10.649900   \n",
       "\n",
       "           SVENF06      SVENF07      SVENF08      SVENF09      SVENF10  ...  \\\n",
       "count  8071.000000  8071.000000  8071.000000  8071.000000  8071.000000  ...   \n",
       "mean      5.559644     5.750071     5.895135     6.000596     6.072112  ...   \n",
       "std       2.080405     2.040337     2.010786     1.987244     1.966960  ...   \n",
       "min       1.698200     1.807300     1.885000     1.942100     1.988200  ...   \n",
       "25%       4.063300     4.409750     4.644300     4.774550     4.859500  ...   \n",
       "50%       5.394600     5.663700     5.870800     5.993700     6.082400  ...   \n",
       "75%       6.908050     7.049900     7.181600     7.297550     7.393350  ...   \n",
       "max      10.741400    10.766300    10.747500    10.701500    10.640000  ...   \n",
       "\n",
       "           SVENF22      SVENF23      SVENF24      SVENF25      SVENF26  \\\n",
       "count  8071.000000  8071.000000  8071.000000  8071.000000  8071.000000   \n",
       "mean      5.689046     5.621666     5.554136     5.486943     5.420479   \n",
       "std       1.801291     1.797858     1.797012     1.798842     1.803390   \n",
       "min       1.489600     1.283000     1.100800     0.941000     0.801800   \n",
       "25%       4.177450     4.090550     4.024800     3.982950     3.962100   \n",
       "50%       5.619600     5.503000     5.369900     5.228000     5.096700   \n",
       "75%       7.330550     7.233200     7.114900     6.998150     6.871050   \n",
       "max      10.535100    10.535100    10.535100    10.535100    10.535100   \n",
       "\n",
       "           SVENF27      SVENF28      SVENF29      SVENF30    Adj_Close  \n",
       "count  8071.000000  8071.000000  8071.000000  8071.000000  8071.000000  \n",
       "mean      5.355063     5.290948     5.228333     5.167371     5.509793  \n",
       "std       1.810643     1.820541     1.832984     1.847834     2.491110  \n",
       "min       0.681200     0.577100     0.487600     0.411100     2.801050  \n",
       "25%       3.887150     3.840900     3.825050     3.831350     3.130587  \n",
       "50%       4.979700     4.860800     4.758600     4.669000     4.956219  \n",
       "75%       6.765400     6.650600     6.535450     6.421850     8.051437  \n",
       "max      10.535100    10.535100    10.535100    10.535100    10.150118  \n",
       "\n",
       "[8 rows x 31 columns]"
      ]
     },
     "execution_count": 2,
     "metadata": {},
     "output_type": "execute_result"
    }
   ],
   "source": [
    "X=df.drop(columns=['Adj_Close'])\n",
    "y=df.Adj_Close\n",
    "df.describe()"
   ]
  },
  {
   "cell_type": "code",
   "execution_count": 3,
   "metadata": {},
   "outputs": [
    {
     "data": {
      "text/plain": [
       "Text(0,0.5,'Frequency')"
      ]
     },
     "execution_count": 3,
     "metadata": {},
     "output_type": "execute_result"
    },
    {
     "data": {
      "image/png": "[encoded data removed]",
      "text/plain": [
       "<Figure size 432x288 with 1 Axes>"
      ]
     },
     "metadata": {
      "needs_background": "light"
     },
     "output_type": "display_data"
    }
   ],
   "source": [
    "import matplotlib.pyplot as plt\n",
    "plt.hist(y)\n",
    "plt.xlabel('Adjusted Close')\n",
    "plt.ylabel(\"Frequency\")"
   ]
  },
  {
   "cell_type": "code",
   "execution_count": 5,
   "metadata": {},
   "outputs": [],
   "source": [
    "from sklearn.linear_model import LinearRegression\n",
    "from sklearn.metrics import mean_squared_error\n",
    "from sklearn.model_selection import train_test_split\n",
    "from sklearn.preprocessing import StandardScaler\n",
    "from sklearn.pipeline import make_pipeline\n",
    "scaler=StandardScaler()\n",
    "X_train, X_test, y_train, y_test = train_test_split(X, y, test_size=0.15, random_state=42)\n",
    "X_scaled=scaler.fit_transform(X_train)\n",
    "Xt_scaled=scaler.transform(X_test)\n"
   ]
  },
  {
   "cell_type": "code",
   "execution_count": 6,
   "metadata": {},
   "outputs": [
    {
     "data": {
      "text/plain": [
       "Text(0,0.5,'Percentage Variance Explained')"
      ]
     },
     "execution_count": 6,
     "metadata": {},
     "output_type": "execute_result"
    },
    {
     "data": {
      "image/png": "[encoded data removed]",
      "text/plain": [
       "<Figure size 432x288 with 1 Axes>"
      ]
     },
     "metadata": {
      "needs_background": "light"
     },
     "output_type": "display_data"
    }
   ],
   "source": [
    "from sklearn.decomposition import PCA\n",
    "\n",
    "pca = PCA()\n",
    "scaler = StandardScaler()\n",
    "cov_mat = np.cov(X_scaled.T)\n",
    "eigen_vals, eigen_vecs = np.linalg.eig(cov_mat)\n",
    "tot = sum(eigen_vals)\n",
    "var_exp = [(i / tot) for i in sorted(eigen_vals, reverse=True)]\n",
    "pca.fit(X_scaled)\n",
    "features = range(pca.n_components_)\n",
    "plt.bar(features, var_exp)\n",
    "plt.xlabel('PCA feature')\n",
    "plt.ylabel('Percentage Variance Explained')\n",
    "# plt.savefig('images/05_02.png', dpi=300)"
   ]
  },
  {
   "cell_type": "code",
   "execution_count": 7,
   "metadata": {},
   "outputs": [
    {
     "data": {
      "text/plain": [
       "Text(0,0.5,'Percentage Variance Explained')"
      ]
     },
     "execution_count": 7,
     "metadata": {},
     "output_type": "execute_result"
    },
    {
     "data": {
      "image/png": "[encoded data removed]",
      "text/plain": [
       "<Figure size 432x288 with 1 Axes>"
      ]
     },
     "metadata": {
      "needs_background": "light"
     },
     "output_type": "display_data"
    }
   ],
   "source": [
    "pca = PCA(n_components=3)\n",
    "scaler = StandardScaler()\n",
    "pca.fit(X_scaled)\n",
    "X_scaled_t=pca.transform(X_scaled)\n",
    "cov_mat = np.cov(X_scaled_t.T)\n",
    "eigen_vals, eigen_vecs = np.linalg.eig(cov_mat)\n",
    "tot = sum(eigen_vals)\n",
    "var_exp = [(i / tot) for i in sorted(eigen_vals, reverse=True)]\n",
    "\n",
    "features = range(1,pca.n_components_+1)\n",
    "plt.bar(features, var_exp)\n",
    "plt.xlabel('PCA feature')\n",
    "plt.ylabel('Percentage Variance Explained')"
   ]
  },
  {
   "cell_type": "code",
   "execution_count": 8,
   "metadata": {},
   "outputs": [
    {
     "name": "stdout",
     "output_type": "stream",
     "text": [
      "1.0\n"
     ]
    },
    {
     "data": {
      "image/png": "[encoded data removed]",
      "text/plain": [
       "<Figure size 432x288 with 1 Axes>"
      ]
     },
     "metadata": {
      "needs_background": "light"
     },
     "output_type": "display_data"
    }
   ],
   "source": [
    "cum_var_exp = np.cumsum(var_exp)\n",
    "plt.step(features, cum_var_exp,c=\"green\")\n",
    "plt.bar(features, var_exp)\n",
    "plt.xlabel('PCA feature')\n",
    "plt.ylabel('Culumlative Percentage Variance Explained')\n",
    "print(cum_var_exp[2])"
   ]
  },
  {
   "cell_type": "code",
   "execution_count": 9,
   "metadata": {
    "scrolled": true
   },
   "outputs": [
    {
     "name": "stdout",
     "output_type": "stream",
     "text": [
      "R2 for test set:\n",
      "0.904130953533734\n",
      "RMSE for test set:\n",
      "0.782369585505725\n",
      "R2 for train set:\n",
      "0.9022730353400426\n",
      "RMSE for train set:\n",
      "0.7766533040369912\n"
     ]
    }
   ],
   "source": [
    "import math\n",
    "from sklearn.linear_model import LinearRegression\n",
    "from sklearn.metrics import r2_score\n",
    "from sklearn.metrics import mean_squared_error\n",
    "reg = LinearRegression().fit(X_scaled, y_train)\n",
    "y_pred=reg.predict(Xt_scaled)\n",
    "R2=r2_score(y_test, y_pred)\n",
    "RMSE=math.sqrt(mean_squared_error(y_test, y_pred))\n",
    "print(\"R2 for test set:\")\n",
    "print(R2)\n",
    "print(\"RMSE for test set:\")\n",
    "print(RMSE)\n",
    "y_pred=reg.predict(X_scaled)\n",
    "R2=r2_score(y_train, y_pred)\n",
    "RMSE=math.sqrt(mean_squared_error(y_train, y_pred))\n",
    "print(\"R2 for train set:\")\n",
    "print(R2)\n",
    "print(\"RMSE for train set:\")\n",
    "print(RMSE)"
   ]
  },
  {
   "cell_type": "code",
   "execution_count": 10,
   "metadata": {},
   "outputs": [],
   "source": [
    "pca = PCA(n_components=3)\n",
    "X_train_pca = pca.fit_transform(X_scaled)\n",
    "X_test_pca = pca.transform(Xt_scaled)"
   ]
  },
  {
   "cell_type": "code",
   "execution_count": 11,
   "metadata": {},
   "outputs": [
    {
     "name": "stdout",
     "output_type": "stream",
     "text": [
      "R2 for test set:\n",
      "0.8662415053375473\n",
      "RMSE for test set:\n",
      "0.924130792359671\n",
      "R2 for train set:\n",
      "0.8672181160186357\n",
      "RMSE for train set:\n",
      "0.9052935003366371\n"
     ]
    }
   ],
   "source": [
    "reg = LinearRegression().fit(X_train_pca, y_train)\n",
    "y_pred=reg.predict(X_test_pca)\n",
    "R2=r2_score(y_test, y_pred)\n",
    "RMSE=math.sqrt(mean_squared_error(y_test, y_pred))\n",
    "print(\"R2 for test set:\")\n",
    "print(R2)\n",
    "print(\"RMSE for test set:\")\n",
    "print(RMSE)\n",
    "y_pred=reg.predict(X_train_pca)\n",
    "R2=r2_score(y_train, y_pred)\n",
    "RMSE=math.sqrt(mean_squared_error(y_train, y_pred))\n",
    "print(\"R2 for train set:\")\n",
    "print(R2)\n",
    "print(\"RMSE for train set:\")\n",
    "print(RMSE)"
   ]
  },
  {
   "cell_type": "code",
   "execution_count": 12,
   "metadata": {},
   "outputs": [
    {
     "name": "stdout",
     "output_type": "stream",
     "text": [
      "R2 for test set:\n",
      "0.989127682416567\n",
      "RMSE for test set:\n",
      "0.2634716067608985\n",
      "R2 for train set:\n",
      "0.9886507388656196\n",
      "RMSE for train set:\n",
      "0.2646694308860057\n"
     ]
    }
   ],
   "source": [
    "from sklearn.svm import SVR\n",
    "clf = SVR().fit(X_scaled, y_train)\n",
    "y_pred=clf.predict(Xt_scaled)\n",
    "R2=r2_score(y_test, y_pred)\n",
    "RMSE=math.sqrt(mean_squared_error(y_test, y_pred))\n",
    "print(\"R2 for test set:\")\n",
    "print(R2)\n",
    "print(\"RMSE for test set:\")\n",
    "print(RMSE)\n",
    "y_pred=clf.predict(X_scaled)\n",
    "R2=r2_score(y_train, y_pred)\n",
    "RMSE=math.sqrt(mean_squared_error(y_train, y_pred))\n",
    "print(\"R2 for train set:\")\n",
    "print(R2)\n",
    "print(\"RMSE for train set:\")\n",
    "print(RMSE)"
   ]
  },
  {
   "cell_type": "code",
   "execution_count": 13,
   "metadata": {},
   "outputs": [
    {
     "name": "stderr",
     "output_type": "stream",
     "text": [
      "//anaconda3/lib/python3.7/site-packages/sklearn/svm/base.py:193: FutureWarning: The default value of gamma will change from 'auto' to 'scale' in version 0.22 to account better for unscaled features. Set gamma explicitly to 'auto' or 'scale' to avoid this warning.\n",
      "  \"avoid this warning.\", FutureWarning)\n"
     ]
    },
    {
     "name": "stdout",
     "output_type": "stream",
     "text": [
      "R2 for test set:\n",
      "0.9899667356322788\n",
      "RMSE for test set:\n",
      "0.253101012737635\n",
      "R2 for train set:\n",
      "0.9900739080853601\n",
      "RMSE for train set:\n",
      "0.24751933829343323\n"
     ]
    }
   ],
   "source": [
    "clf = SVR().fit(X_train_pca, y_train)\n",
    "y_pred=clf.predict(X_test_pca)\n",
    "R2=r2_score(y_test, y_pred)\n",
    "RMSE=math.sqrt(mean_squared_error(y_test, y_pred))\n",
    "print(\"R2 for test set:\")\n",
    "print(R2)\n",
    "print(\"RMSE for test set:\")\n",
    "print(RMSE)\n",
    "y_pred=clf.predict(X_train_pca)\n",
    "R2=r2_score(y_train, y_pred)\n",
    "RMSE=math.sqrt(mean_squared_error(y_train, y_pred))\n",
    "print(\"R2 for train set:\")\n",
    "print(R2)\n",
    "print(\"RMSE for train set:\")\n",
    "print(RMSE)\n"
   ]
  },
  {
   "cell_type": "code",
   "execution_count": null,
   "metadata": {},
   "outputs": [],
   "source": []
  },
  {
   "cell_type": "code",
   "execution_count": null,
   "metadata": {},
   "outputs": [],
   "source": []
  },
  {
   "cell_type": "code",
   "execution_count": 14,
   "metadata": {},
   "outputs": [
    {
     "name": "stdout",
     "output_type": "stream",
     "text": [
      "My name is Qiuchen LU\n",
      "My NetID is: QLU10\n",
      "I hereby certify that I have read the University policy on Academic Integrity and that I am not in violation.\n"
     ]
    }
   ],
   "source": [
    "print(\"My name is Qiuchen LU\")\n",
    "print(\"My NetID is: QLU10\")\n",
    "print(\"I hereby certify that I have read the University policy on Academic Integrity and that I am not in violation.\")"
   ]
  },
  {
   "cell_type": "code",
   "execution_count": null,
   "metadata": {},
   "outputs": [],
   "source": []
  }
 ],
 "metadata": {
  "kernelspec": {
   "display_name": "Python 3",
   "language": "python",
   "name": "python3"
  },
  "language_info": {
   "codemirror_mode": {
    "name": "ipython",
    "version": 3
   },
   "file_extension": ".py",
   "mimetype": "text/x-python",
   "name": "python",
   "nbconvert_exporter": "python",
   "pygments_lexer": "ipython3",
   "version": "3.7.3"
  }
 },
 "nbformat": 4,
 "nbformat_minor": 2
}
